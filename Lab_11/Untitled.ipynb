{
 "cells": [
  {
   "cell_type": "code",
   "execution_count": null,
   "id": "ffafbf96-32de-496f-91e1-ec86f0a7bd60",
   "metadata": {},
   "outputs": [
    {
     "name": "stdout",
     "output_type": "stream",
     "text": [
      "\n",
      "    List of the commands:\n",
      "    1. Type \"i\" or \"I\" in order to INSERT data to the table.\n",
      "    2. Type \"u\" or \"U\" in order to UPDATE data in the table.\n",
      "    3. Type \"q\" or \"Q\" in order to make specific QUERY in the table.\n",
      "    4. Type \"s\" or \"S\" in order to search data by pattern.\n",
      "    5. Type \"d\" or \"D\" in order to DELETE data from the table.\n",
      "    6. Type \"p\" or \"P\" in order to query data with pagination.\n",
      "    7. Type \"v\" or \"V\" in order to see the values in the table.\n",
      "    8. Type \"f\" or \"F\" in order to close the program.\n",
      "    \n"
     ]
    },
    {
     "name": "stdin",
     "output_type": "stream",
     "text": [
      " v\n"
     ]
    },
    {
     "name": "stdout",
     "output_type": "stream",
     "text": [
      "╒══════╤════════╤═══════════╤═════════╕\n",
      "│   ID │ Name   │ Surname   │   Phone │\n",
      "╞══════╪════════╪═══════════╪═════════╡\n",
      "│    1 │ UU     │ tyu       │      77 │\n",
      "╘══════╧════════╧═══════════╧═════════╛\n",
      "\n",
      "    List of the commands:\n",
      "    1. Type \"i\" or \"I\" in order to INSERT data to the table.\n",
      "    2. Type \"u\" or \"U\" in order to UPDATE data in the table.\n",
      "    3. Type \"q\" or \"Q\" in order to make specific QUERY in the table.\n",
      "    4. Type \"s\" or \"S\" in order to search data by pattern.\n",
      "    5. Type \"d\" or \"D\" in order to DELETE data from the table.\n",
      "    6. Type \"p\" or \"P\" in order to query data with pagination.\n",
      "    7. Type \"v\" or \"V\" in order to see the values in the table.\n",
      "    8. Type \"f\" or \"F\" in order to close the program.\n",
      "    \n"
     ]
    },
    {
     "name": "stdin",
     "output_type": "stream",
     "text": [
      " p\n",
      "Enter page number:  1\n",
      "Enter number of records per page:  3\n"
     ]
    },
    {
     "name": "stdout",
     "output_type": "stream",
     "text": [
      "  ID  Name    Surname      Phone\n",
      "----  ------  ---------  -------\n",
      "   1  UU      tyu             77\n",
      "\n",
      "    List of the commands:\n",
      "    1. Type \"i\" or \"I\" in order to INSERT data to the table.\n",
      "    2. Type \"u\" or \"U\" in order to UPDATE data in the table.\n",
      "    3. Type \"q\" or \"Q\" in order to make specific QUERY in the table.\n",
      "    4. Type \"s\" or \"S\" in order to search data by pattern.\n",
      "    5. Type \"d\" or \"D\" in order to DELETE data from the table.\n",
      "    6. Type \"p\" or \"P\" in order to query data with pagination.\n",
      "    7. Type \"v\" or \"V\" in order to see the values in the table.\n",
      "    8. Type \"f\" or \"F\" in order to close the program.\n",
      "    \n"
     ]
    },
    {
     "name": "stdin",
     "output_type": "stream",
     "text": [
      " s\n",
      "Enter pattern to search:  U\n"
     ]
    },
    {
     "name": "stdout",
     "output_type": "stream",
     "text": [
      "  ID  Name    Surname      Phone\n",
      "----  ------  ---------  -------\n",
      "   1  UU      tyu             77\n",
      "\n",
      "    List of the commands:\n",
      "    1. Type \"i\" or \"I\" in order to INSERT data to the table.\n",
      "    2. Type \"u\" or \"U\" in order to UPDATE data in the table.\n",
      "    3. Type \"q\" or \"Q\" in order to make specific QUERY in the table.\n",
      "    4. Type \"s\" or \"S\" in order to search data by pattern.\n",
      "    5. Type \"d\" or \"D\" in order to DELETE data from the table.\n",
      "    6. Type \"p\" or \"P\" in order to query data with pagination.\n",
      "    7. Type \"v\" or \"V\" in order to see the values in the table.\n",
      "    8. Type \"f\" or \"F\" in order to close the program.\n",
      "    \n"
     ]
    },
    {
     "name": "stdin",
     "output_type": "stream",
     "text": [
      " p\n",
      "Enter page number:  2\n",
      "Enter number of records per page:  3\n"
     ]
    },
    {
     "name": "stdout",
     "output_type": "stream",
     "text": [
      "ID    Name    Surname    Phone\n",
      "----  ------  ---------  -------\n",
      "\n",
      "    List of the commands:\n",
      "    1. Type \"i\" or \"I\" in order to INSERT data to the table.\n",
      "    2. Type \"u\" or \"U\" in order to UPDATE data in the table.\n",
      "    3. Type \"q\" or \"Q\" in order to make specific QUERY in the table.\n",
      "    4. Type \"s\" or \"S\" in order to search data by pattern.\n",
      "    5. Type \"d\" or \"D\" in order to DELETE data from the table.\n",
      "    6. Type \"p\" or \"P\" in order to query data with pagination.\n",
      "    7. Type \"v\" or \"V\" in order to see the values in the table.\n",
      "    8. Type \"f\" or \"F\" in order to close the program.\n",
      "    \n"
     ]
    },
    {
     "name": "stdin",
     "output_type": "stream",
     "text": [
      " p\n",
      "Enter page number:  1\n",
      "Enter number of records per page:  2\n"
     ]
    },
    {
     "name": "stdout",
     "output_type": "stream",
     "text": [
      "  ID  Name    Surname      Phone\n",
      "----  ------  ---------  -------\n",
      "   1  UU      tyu             77\n",
      "\n",
      "    List of the commands:\n",
      "    1. Type \"i\" or \"I\" in order to INSERT data to the table.\n",
      "    2. Type \"u\" or \"U\" in order to UPDATE data in the table.\n",
      "    3. Type \"q\" or \"Q\" in order to make specific QUERY in the table.\n",
      "    4. Type \"s\" or \"S\" in order to search data by pattern.\n",
      "    5. Type \"d\" or \"D\" in order to DELETE data from the table.\n",
      "    6. Type \"p\" or \"P\" in order to query data with pagination.\n",
      "    7. Type \"v\" or \"V\" in order to see the values in the table.\n",
      "    8. Type \"f\" or \"F\" in order to close the program.\n",
      "    \n"
     ]
    },
    {
     "name": "stdin",
     "output_type": "stream",
     "text": [
      " i\n"
     ]
    },
    {
     "name": "stdout",
     "output_type": "stream",
     "text": [
      "Type \"csv\" or \"con\" to choose option between uploading csv file or typing from console: \n"
     ]
    },
    {
     "name": "stdin",
     "output_type": "stream",
     "text": [
      " con\n",
      "Name:  sfs\n",
      "Surname:  eww\n",
      "Phone:  55\n"
     ]
    },
    {
     "name": "stdout",
     "output_type": "stream",
     "text": [
      "\n",
      "    List of the commands:\n",
      "    1. Type \"i\" or \"I\" in order to INSERT data to the table.\n",
      "    2. Type \"u\" or \"U\" in order to UPDATE data in the table.\n",
      "    3. Type \"q\" or \"Q\" in order to make specific QUERY in the table.\n",
      "    4. Type \"s\" or \"S\" in order to search data by pattern.\n",
      "    5. Type \"d\" or \"D\" in order to DELETE data from the table.\n",
      "    6. Type \"p\" or \"P\" in order to query data with pagination.\n",
      "    7. Type \"v\" or \"V\" in order to see the values in the table.\n",
      "    8. Type \"f\" or \"F\" in order to close the program.\n",
      "    \n"
     ]
    },
    {
     "name": "stdin",
     "output_type": "stream",
     "text": [
      " i\n"
     ]
    },
    {
     "name": "stdout",
     "output_type": "stream",
     "text": [
      "Type \"csv\" or \"con\" to choose option between uploading csv file or typing from console: \n"
     ]
    },
    {
     "name": "stdin",
     "output_type": "stream",
     "text": [
      " con\n",
      "Name:  opp\n",
      "Surname:  paa\n",
      "Phone:  99\n"
     ]
    },
    {
     "name": "stdout",
     "output_type": "stream",
     "text": [
      "\n",
      "    List of the commands:\n",
      "    1. Type \"i\" or \"I\" in order to INSERT data to the table.\n",
      "    2. Type \"u\" or \"U\" in order to UPDATE data in the table.\n",
      "    3. Type \"q\" or \"Q\" in order to make specific QUERY in the table.\n",
      "    4. Type \"s\" or \"S\" in order to search data by pattern.\n",
      "    5. Type \"d\" or \"D\" in order to DELETE data from the table.\n",
      "    6. Type \"p\" or \"P\" in order to query data with pagination.\n",
      "    7. Type \"v\" or \"V\" in order to see the values in the table.\n",
      "    8. Type \"f\" or \"F\" in order to close the program.\n",
      "    \n"
     ]
    },
    {
     "name": "stdin",
     "output_type": "stream",
     "text": [
      " p\n",
      "Enter page number:  1\n",
      "Enter number of records per page:  1\n"
     ]
    },
    {
     "name": "stdout",
     "output_type": "stream",
     "text": [
      "  ID  Name    Surname      Phone\n",
      "----  ------  ---------  -------\n",
      "   1  UU      tyu             77\n",
      "\n",
      "    List of the commands:\n",
      "    1. Type \"i\" or \"I\" in order to INSERT data to the table.\n",
      "    2. Type \"u\" or \"U\" in order to UPDATE data in the table.\n",
      "    3. Type \"q\" or \"Q\" in order to make specific QUERY in the table.\n",
      "    4. Type \"s\" or \"S\" in order to search data by pattern.\n",
      "    5. Type \"d\" or \"D\" in order to DELETE data from the table.\n",
      "    6. Type \"p\" or \"P\" in order to query data with pagination.\n",
      "    7. Type \"v\" or \"V\" in order to see the values in the table.\n",
      "    8. Type \"f\" or \"F\" in order to close the program.\n",
      "    \n"
     ]
    },
    {
     "name": "stdin",
     "output_type": "stream",
     "text": [
      " p\n",
      "Enter page number:  1\n",
      "Enter number of records per page:  2\n"
     ]
    },
    {
     "name": "stdout",
     "output_type": "stream",
     "text": [
      "  ID  Name    Surname      Phone\n",
      "----  ------  ---------  -------\n",
      "   1  UU      tyu             77\n",
      "   2  sfs     eww             55\n",
      "\n",
      "    List of the commands:\n",
      "    1. Type \"i\" or \"I\" in order to INSERT data to the table.\n",
      "    2. Type \"u\" or \"U\" in order to UPDATE data in the table.\n",
      "    3. Type \"q\" or \"Q\" in order to make specific QUERY in the table.\n",
      "    4. Type \"s\" or \"S\" in order to search data by pattern.\n",
      "    5. Type \"d\" or \"D\" in order to DELETE data from the table.\n",
      "    6. Type \"p\" or \"P\" in order to query data with pagination.\n",
      "    7. Type \"v\" or \"V\" in order to see the values in the table.\n",
      "    8. Type \"f\" or \"F\" in order to close the program.\n",
      "    \n"
     ]
    },
    {
     "name": "stdin",
     "output_type": "stream",
     "text": [
      " p\n",
      "Enter page number:  2\n",
      "Enter number of records per page:  1\n"
     ]
    },
    {
     "name": "stdout",
     "output_type": "stream",
     "text": [
      "  ID  Name    Surname      Phone\n",
      "----  ------  ---------  -------\n",
      "   2  sfs     eww             55\n",
      "\n",
      "    List of the commands:\n",
      "    1. Type \"i\" or \"I\" in order to INSERT data to the table.\n",
      "    2. Type \"u\" or \"U\" in order to UPDATE data in the table.\n",
      "    3. Type \"q\" or \"Q\" in order to make specific QUERY in the table.\n",
      "    4. Type \"s\" or \"S\" in order to search data by pattern.\n",
      "    5. Type \"d\" or \"D\" in order to DELETE data from the table.\n",
      "    6. Type \"p\" or \"P\" in order to query data with pagination.\n",
      "    7. Type \"v\" or \"V\" in order to see the values in the table.\n",
      "    8. Type \"f\" or \"F\" in order to close the program.\n",
      "    \n"
     ]
    },
    {
     "name": "stdin",
     "output_type": "stream",
     "text": [
      " p\n",
      "Enter page number:  2\n",
      "Enter number of records per page:  2\n"
     ]
    },
    {
     "name": "stdout",
     "output_type": "stream",
     "text": [
      "  ID  Name    Surname      Phone\n",
      "----  ------  ---------  -------\n",
      "   3  opp     paa             99\n",
      "\n",
      "    List of the commands:\n",
      "    1. Type \"i\" or \"I\" in order to INSERT data to the table.\n",
      "    2. Type \"u\" or \"U\" in order to UPDATE data in the table.\n",
      "    3. Type \"q\" or \"Q\" in order to make specific QUERY in the table.\n",
      "    4. Type \"s\" or \"S\" in order to search data by pattern.\n",
      "    5. Type \"d\" or \"D\" in order to DELETE data from the table.\n",
      "    6. Type \"p\" or \"P\" in order to query data with pagination.\n",
      "    7. Type \"v\" or \"V\" in order to see the values in the table.\n",
      "    8. Type \"f\" or \"F\" in order to close the program.\n",
      "    \n"
     ]
    }
   ],
   "source": [
    "import psycopg2\n",
    "import csv\n",
    "from tabulate import tabulate\n",
    "\n",
    "# Connect to the new database and use the updated credentials\n",
    "conn = psycopg2.connect(host=\"localhost\", dbname=\"new_lab\", user=\"postgres\",\n",
    "                        password=\"loony66\", port=5432)\n",
    "\n",
    "cur = conn.cursor()\n",
    "\n",
    "# Create the phonebook table if it doesn't exist\n",
    "cur.execute(\"\"\"CREATE TABLE IF NOT EXISTS phonebook (\n",
    "      user_id SERIAL PRIMARY KEY,\n",
    "      name VARCHAR(255) NOT NULL,\n",
    "      surname VARCHAR(255) NOT NULL, \n",
    "      phone VARCHAR(255) NOT NULL\n",
    ")\n",
    "\"\"\")\n",
    "\n",
    "# Function to insert data (either manually or from a CSV file)\n",
    "def insert_data():\n",
    "    print('Type \"csv\" or \"con\" to choose option between uploading csv file or typing from console: ')\n",
    "    method = input().lower()\n",
    "    if method == \"con\":\n",
    "        name = input(\"Name: \")\n",
    "        surname = input(\"Surname: \")\n",
    "        phone = input(\"Phone: \")\n",
    "        cur.execute(\"INSERT INTO phonebook (name, surname, phone) VALUES (%s, %s, %s)\", (name, surname, phone))\n",
    "    elif method == \"csv\":\n",
    "        filepath = input(\"Enter a file path with proper extension: \")\n",
    "        with open(filepath, 'r') as f:\n",
    "            reader = csv.reader(f)\n",
    "            next(reader)  # Skip the header row\n",
    "            for row in reader:\n",
    "                cur.execute(\"INSERT INTO phonebook (name, surname, phone) VALUES (%s, %s, %s)\", tuple(row))\n",
    "\n",
    "# Function to update data in the table\n",
    "def update_data():\n",
    "    column = input('Type the name of the column that you want to change: ')\n",
    "    value = input(f\"Enter {column} that you want to change: \")\n",
    "    new_value = input(f\"Enter the new {column}: \")\n",
    "    cur.execute(f\"UPDATE phonebook SET {column} = %s WHERE {column} = %s\", (new_value, value))\n",
    "    conn.commit()\n",
    "\n",
    "# Function to delete data from the table\n",
    "def delete_data():\n",
    "    phone = input('Type phone number which you want to delete: ')\n",
    "    cur.execute(\"DELETE FROM phonebook WHERE phone = %s\", (phone,))\n",
    "    conn.commit()\n",
    "\n",
    "# Function to query data based on a given pattern (part of name, surname, or phone)\n",
    "def search_data():\n",
    "    pattern = input(\"Enter pattern to search: \")\n",
    "    cur.execute(\"SELECT * FROM phonebook WHERE name LIKE %s OR surname LIKE %s OR phone LIKE %s\", \n",
    "                (f\"%{pattern}%\", f\"%{pattern}%\", f\"%{pattern}%\"))\n",
    "    rows = cur.fetchall()\n",
    "    print(tabulate(rows, headers=[\"ID\", \"Name\", \"Surname\", \"Phone\"]))\n",
    "\n",
    "# Function to query data with pagination\n",
    "def query_data_paginated():\n",
    "    page = int(input(\"Enter page number: \"))\n",
    "    limit = int(input(\"Enter number of records per page: \"))\n",
    "    offset = (page - 1) * limit\n",
    "    cur.execute(\"SELECT * FROM phonebook LIMIT %s OFFSET %s\", (limit, offset))\n",
    "    rows = cur.fetchall()\n",
    "    print(tabulate(rows, headers=[\"ID\", \"Name\", \"Surname\", \"Phone\"]))\n",
    "\n",
    "# Function to display all data in the table\n",
    "def display_data():\n",
    "    cur.execute(\"SELECT * from phonebook;\")\n",
    "    rows = cur.fetchall()\n",
    "    print(tabulate(rows, headers=[\"ID\", \"Name\", \"Surname\", \"Phone\"], tablefmt='fancy_grid'))\n",
    "\n",
    "# Main loop with options for different commands\n",
    "while True:\n",
    "    print(\"\"\"\n",
    "    List of the commands:\n",
    "    1. Type \"i\" or \"I\" in order to INSERT data to the table.\n",
    "    2. Type \"u\" or \"U\" in order to UPDATE data in the table.\n",
    "    3. Type \"q\" or \"Q\" in order to make specific QUERY in the table.\n",
    "    4. Type \"s\" or \"S\" in order to search data by pattern.\n",
    "    5. Type \"d\" or \"D\" in order to DELETE data from the table.\n",
    "    6. Type \"p\" or \"P\" in order to query data with pagination.\n",
    "    7. Type \"v\" or \"V\" in order to see the values in the table.\n",
    "    8. Type \"f\" or \"F\" in order to close the program.\n",
    "    \"\"\")\n",
    "\n",
    "    command = input().lower()\n",
    "\n",
    "    if command == \"i\":\n",
    "        insert_data()\n",
    "    elif command == \"u\":\n",
    "        update_data()\n",
    "    elif command == \"d\":\n",
    "        delete_data()\n",
    "    elif command == \"q\":\n",
    "        search_data()\n",
    "    elif command == \"s\":\n",
    "        search_data()\n",
    "    elif command == \"p\":\n",
    "        query_data_paginated()\n",
    "    elif command == \"v\":\n",
    "        display_data()\n",
    "    elif command == \"f\":\n",
    "        break\n",
    "\n",
    "conn.commit()\n",
    "cur.close()\n",
    "conn.close()\n"
   ]
  }
 ],
 "metadata": {
  "kernelspec": {
   "display_name": "Python [conda env:base] *",
   "language": "python",
   "name": "conda-base-py"
  },
  "language_info": {
   "codemirror_mode": {
    "name": "ipython",
    "version": 3
   },
   "file_extension": ".py",
   "mimetype": "text/x-python",
   "name": "python",
   "nbconvert_exporter": "python",
   "pygments_lexer": "ipython3",
   "version": "3.12.9"
  }
 },
 "nbformat": 4,
 "nbformat_minor": 5
}
